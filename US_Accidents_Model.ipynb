{
 "cells": [
  {
   "cell_type": "code",
   "execution_count": 1,
   "id": "06659697",
   "metadata": {},
   "outputs": [],
   "source": [
    "import pandas as pd\n",
    "pd.options.mode.chained_assignment = None\n",
    "pd.options.display.max_columns = 999\n",
    "import numpy as np\n",
    "import matplotlib.pyplot as plt\n",
    "import seaborn as sns"
   ]
  },
  {
   "cell_type": "code",
   "execution_count": 2,
   "id": "f8012a42",
   "metadata": {},
   "outputs": [],
   "source": [
    "#read the csv dataset into dataframe\n",
    "df = pd.read_csv('US_Accidents_Dec21_updated_1.csv')"
   ]
  },
  {
   "cell_type": "code",
   "execution_count": 3,
   "id": "cb2276a8",
   "metadata": {},
   "outputs": [
    {
     "name": "stdout",
     "output_type": "stream",
     "text": [
      "(1048575, 47)\n",
      "(370853, 47)\n"
     ]
    }
   ],
   "source": [
    "print(df.shape)\n",
    "df.dropna(inplace = True)\n",
    "print(df.shape)"
   ]
  },
  {
   "cell_type": "code",
   "execution_count": 4,
   "id": "49c16dc3",
   "metadata": {},
   "outputs": [],
   "source": [
    "# Drop ID column\n",
    "df.drop(columns = ['ID'], inplace = True)\n",
    "df.drop(columns = ['Description'], inplace = True)"
   ]
  },
  {
   "cell_type": "code",
   "execution_count": 5,
   "id": "e8b4d3bd",
   "metadata": {},
   "outputs": [
    {
     "data": {
      "text/plain": [
       "Index(['Start_Time', 'End_Time', 'Street', 'Side', 'City', 'County', 'State',\n",
       "       'Zipcode', 'Country', 'Timezone', 'Airport_Code', 'Weather_Timestamp',\n",
       "       'Wind_Direction', 'Weather_Condition', 'Amenity', 'Bump', 'Crossing',\n",
       "       'Give_Way', 'Junction', 'No_Exit', 'Railway', 'Roundabout', 'Station',\n",
       "       'Stop', 'Traffic_Calming', 'Traffic_Signal', 'Turning_Loop',\n",
       "       'Sunrise_Sunset', 'Civil_Twilight', 'Nautical_Twilight',\n",
       "       'Astronomical_Twilight'],\n",
       "      dtype='object')"
      ]
     },
     "execution_count": 5,
     "metadata": {},
     "output_type": "execute_result"
    }
   ],
   "source": [
    "categorical_columns = df.select_dtypes(include=['object','bool']).columns\n",
    "categorical_columns"
   ]
  },
  {
   "cell_type": "code",
   "execution_count": 6,
   "id": "747a6d0b",
   "metadata": {},
   "outputs": [],
   "source": [
    "from sklearn import preprocessing\n",
    "\n",
    "for i in categorical_columns:\n",
    "    en = preprocessing.LabelEncoder()\n",
    "    df[i]= en.fit_transform(df[i])"
   ]
  },
  {
   "cell_type": "code",
   "execution_count": 7,
   "id": "2626478e",
   "metadata": {},
   "outputs": [
    {
     "data": {
      "image/png": "[encoded data removed]",
      "text/plain": [
       "<Figure size 1440x504 with 1 Axes>"
      ]
     },
     "metadata": {
      "needs_background": "light"
     },
     "output_type": "display_data"
    }
   ],
   "source": [
    "train_y = df['Severity'].values\n",
    "x_cols = [col for col in df.columns if col not in ['Severity'] if df[col].dtype=='float64'or df[col].dtype=='int64']\n",
    "train_col= df[x_cols]\n",
    "\n",
    "fearture_name = train_col.columns.values \n",
    "\n",
    "from sklearn import ensemble \n",
    "\n",
    "model = ensemble.ExtraTreesRegressor(n_estimators=25, max_depth=30, max_features=0.3, n_jobs=-1, random_state=0)\n",
    "model.fit(train_col,train_y)\n",
    "\n",
    "importance = model.feature_importances_\n",
    "std = np.std([tree.feature_importances_ for tree in model.estimators_],axis=0)\n",
    "indices = np.argsort(importance)[::-1][:20]\n",
    "\n",
    "plt.figure(figsize=(20,7))\n",
    "plt.title(\"Feature importances\")\n",
    "plt.bar(range(len(indices)), importance[indices], color=\"r\", yerr=std[indices], align=\"center\")\n",
    "plt.xticks(range(len(indices)), fearture_name[indices], rotation='vertical')\n",
    "plt.xlim([-1, len(indices)])\n",
    "plt.show()"
   ]
  },
  {
   "cell_type": "code",
   "execution_count": 8,
   "id": "5bb13120",
   "metadata": {},
   "outputs": [],
   "source": [
    "y = df['Severity'].copy()\n",
    "X = df.drop('Severity', axis=1).copy()"
   ]
  },
  {
   "cell_type": "code",
   "execution_count": 9,
   "id": "523df401",
   "metadata": {},
   "outputs": [
    {
     "data": {
      "text/plain": [
       "array([4, 2, 3])"
      ]
     },
     "execution_count": 9,
     "metadata": {},
     "output_type": "execute_result"
    }
   ],
   "source": [
    "y.unique()"
   ]
  },
  {
   "cell_type": "code",
   "execution_count": 10,
   "id": "26eb5ea7",
   "metadata": {},
   "outputs": [],
   "source": [
    "y = y-1"
   ]
  },
  {
   "cell_type": "code",
   "execution_count": 11,
   "id": "2527e4cc",
   "metadata": {},
   "outputs": [],
   "source": [
    "from sklearn.preprocessing import StandardScaler\n",
    "from sklearn.model_selection import train_test_split"
   ]
  },
  {
   "cell_type": "code",
   "execution_count": 12,
   "id": "414a089c",
   "metadata": {},
   "outputs": [],
   "source": [
    "scaler = StandardScaler()\n",
    "X = scaler.fit_transform(X)"
   ]
  },
  {
   "cell_type": "code",
   "execution_count": 13,
   "id": "274974e0",
   "metadata": {},
   "outputs": [],
   "source": [
    "X_train, X_test, y_train, y_test = train_test_split(X, y, train_size=0.8, random_state=100)"
   ]
  },
  {
   "cell_type": "code",
   "execution_count": 14,
   "id": "e835b6e2",
   "metadata": {},
   "outputs": [
    {
     "data": {
      "text/plain": [
       "(296682, 44)"
      ]
     },
     "execution_count": 14,
     "metadata": {},
     "output_type": "execute_result"
    }
   ],
   "source": [
    "X_train.shape"
   ]
  },
  {
   "cell_type": "code",
   "execution_count": 15,
   "id": "bb5709a4",
   "metadata": {},
   "outputs": [],
   "source": [
    "import tensorflow as tf\n",
    "import keras\n",
    "from keras.models import Sequential\n",
    "from keras.layers import Dense, Dropout"
   ]
  },
  {
   "cell_type": "code",
   "execution_count": 16,
   "id": "6222d078",
   "metadata": {},
   "outputs": [
    {
     "name": "stderr",
     "output_type": "stream",
     "text": [
      "2022-12-11 22:55:02.234551: E tensorflow/stream_executor/cuda/cuda_driver.cc:271] failed call to cuInit: CUDA_ERROR_NO_DEVICE: no CUDA-capable device is detected\n",
      "2022-12-11 22:55:02.234622: I tensorflow/stream_executor/cuda/cuda_diagnostics.cc:156] kernel driver does not appear to be running on this host (ip-172-16-167-149.ec2.internal): /proc/driver/nvidia/version does not exist\n",
      "2022-12-11 22:55:02.235170: I tensorflow/core/platform/cpu_feature_guard.cc:151] This TensorFlow binary is optimized with oneAPI Deep Neural Network Library (oneDNN) to use the following CPU instructions in performance-critical operations:  AVX2 AVX512F FMA\n",
      "To enable them in other operations, rebuild TensorFlow with the appropriate compiler flags.\n",
      "2022-12-11 22:55:03.018610: W tensorflow/core/framework/cpu_allocator_impl.cc:82] Allocation of 41772720 exceeds 10% of free system memory.\n"
     ]
    },
    {
     "name": "stdout",
     "output_type": "stream",
     "text": [
      "Epoch 1/30\n",
      "5934/5934 [==============================] - 15s 2ms/step - loss: 0.0951 - accuracy: 0.9776 - val_loss: 0.0907 - val_accuracy: 0.9773 - lr: 0.0010\n",
      "Epoch 2/30\n",
      "5934/5934 [==============================] - 10s 2ms/step - loss: 0.0863 - accuracy: 0.9780 - val_loss: 0.0875 - val_accuracy: 0.9776 - lr: 0.0010\n",
      "Epoch 3/30\n",
      "5934/5934 [==============================] - 10s 2ms/step - loss: 0.0831 - accuracy: 0.9782 - val_loss: 0.0853 - val_accuracy: 0.9777 - lr: 0.0010\n",
      "Epoch 4/30\n",
      "5934/5934 [==============================] - 14s 2ms/step - loss: 0.0813 - accuracy: 0.9784 - val_loss: 0.0844 - val_accuracy: 0.9778 - lr: 0.0010\n",
      "Epoch 5/30\n",
      "5934/5934 [==============================] - 11s 2ms/step - loss: 0.0797 - accuracy: 0.9783 - val_loss: 0.0842 - val_accuracy: 0.9777 - lr: 0.0010\n",
      "Epoch 6/30\n",
      "5934/5934 [==============================] - 10s 2ms/step - loss: 0.0788 - accuracy: 0.9783 - val_loss: 0.0842 - val_accuracy: 0.9778 - lr: 0.0010\n",
      "Epoch 7/30\n",
      "5934/5934 [==============================] - 10s 2ms/step - loss: 0.0775 - accuracy: 0.9784 - val_loss: 0.0833 - val_accuracy: 0.9777 - lr: 0.0010\n",
      "Epoch 8/30\n",
      "5934/5934 [==============================] - 10s 2ms/step - loss: 0.0767 - accuracy: 0.9785 - val_loss: 0.0831 - val_accuracy: 0.9777 - lr: 0.0010\n",
      "Epoch 9/30\n",
      "5934/5934 [==============================] - 11s 2ms/step - loss: 0.0759 - accuracy: 0.9786 - val_loss: 0.0833 - val_accuracy: 0.9778 - lr: 0.0010\n",
      "Epoch 10/30\n",
      "5934/5934 [==============================] - 10s 2ms/step - loss: 0.0752 - accuracy: 0.9787 - val_loss: 0.0834 - val_accuracy: 0.9778 - lr: 0.0010\n",
      "Epoch 11/30\n",
      "5934/5934 [==============================] - 11s 2ms/step - loss: 0.0742 - accuracy: 0.9788 - val_loss: 0.0841 - val_accuracy: 0.9775 - lr: 0.0010\n"
     ]
    }
   ],
   "source": [
    "inputs = tf.keras.Input(shape=(X.shape[1],))\n",
    "x = tf.keras.layers.Dense(64, activation='relu')(inputs)\n",
    "x = tf.keras.layers.Dense(64, activation='relu')(x)\n",
    "x = tf.keras.layers.Dense(64, activation='relu')(x)\n",
    "outputs = tf.keras.layers.Dense(4, activation='softmax')(x)\n",
    "\n",
    "model = tf.keras.Model(inputs, outputs)\n",
    "\n",
    "model.compile(\n",
    "    optimizer='adam',\n",
    "    loss='sparse_categorical_crossentropy',\n",
    "    metrics=['accuracy']\n",
    ")\n",
    "\n",
    "batch_size = 40\n",
    "epochs = 30\n",
    "\n",
    "history = model.fit(\n",
    "    X_train,\n",
    "    y_train,\n",
    "    validation_split=0.2,\n",
    "    batch_size=batch_size,\n",
    "    epochs=epochs,\n",
    "    callbacks=[\n",
    "        tf.keras.callbacks.ReduceLROnPlateau(),\n",
    "        tf.keras.callbacks.EarlyStopping(\n",
    "            monitor='val_loss',\n",
    "            patience=3,\n",
    "            restore_best_weights=True\n",
    "        )\n",
    "    ]\n",
    ")"
   ]
  },
  {
   "cell_type": "code",
   "execution_count": 17,
   "id": "694837ae",
   "metadata": {},
   "outputs": [
    {
     "name": "stdout",
     "output_type": "stream",
     "text": [
      "Test Accuracy: 0.9784821271896362\n"
     ]
    }
   ],
   "source": [
    "print(\"Test Accuracy:\", model.evaluate(X_test, y_test, verbose=0)[1])"
   ]
  },
  {
   "cell_type": "code",
   "execution_count": 18,
   "id": "37029823",
   "metadata": {},
   "outputs": [],
   "source": [
    "losses=pd.DataFrame(history.history)"
   ]
  },
  {
   "cell_type": "code",
   "execution_count": 19,
   "id": "6cf2fcb9",
   "metadata": {},
   "outputs": [
    {
     "data": {
      "text/html": [
       "<div>\n",
       "<style scoped>\n",
       "    .dataframe tbody tr th:only-of-type {\n",
       "        vertical-align: middle;\n",
       "    }\n",
       "\n",
       "    .dataframe tbody tr th {\n",
       "        vertical-align: top;\n",
       "    }\n",
       "\n",
       "    .dataframe thead th {\n",
       "        text-align: right;\n",
       "    }\n",
       "</style>\n",
       "<table border=\"1\" class=\"dataframe\">\n",
       "  <thead>\n",
       "    <tr style=\"text-align: right;\">\n",
       "      <th></th>\n",
       "      <th>loss</th>\n",
       "      <th>accuracy</th>\n",
       "      <th>val_loss</th>\n",
       "      <th>val_accuracy</th>\n",
       "      <th>lr</th>\n",
       "    </tr>\n",
       "  </thead>\n",
       "  <tbody>\n",
       "    <tr>\n",
       "      <th>0</th>\n",
       "      <td>0.095104</td>\n",
       "      <td>0.977590</td>\n",
       "      <td>0.090727</td>\n",
       "      <td>0.977316</td>\n",
       "      <td>0.001</td>\n",
       "    </tr>\n",
       "    <tr>\n",
       "      <th>1</th>\n",
       "      <td>0.086331</td>\n",
       "      <td>0.977965</td>\n",
       "      <td>0.087462</td>\n",
       "      <td>0.977636</td>\n",
       "      <td>0.001</td>\n",
       "    </tr>\n",
       "    <tr>\n",
       "      <th>2</th>\n",
       "      <td>0.083109</td>\n",
       "      <td>0.978217</td>\n",
       "      <td>0.085268</td>\n",
       "      <td>0.977704</td>\n",
       "      <td>0.001</td>\n",
       "    </tr>\n",
       "    <tr>\n",
       "      <th>3</th>\n",
       "      <td>0.081265</td>\n",
       "      <td>0.978352</td>\n",
       "      <td>0.084419</td>\n",
       "      <td>0.977771</td>\n",
       "      <td>0.001</td>\n",
       "    </tr>\n",
       "    <tr>\n",
       "      <th>4</th>\n",
       "      <td>0.079702</td>\n",
       "      <td>0.978331</td>\n",
       "      <td>0.084170</td>\n",
       "      <td>0.977720</td>\n",
       "      <td>0.001</td>\n",
       "    </tr>\n",
       "  </tbody>\n",
       "</table>\n",
       "</div>"
      ],
      "text/plain": [
       "       loss  accuracy  val_loss  val_accuracy     lr\n",
       "0  0.095104  0.977590  0.090727      0.977316  0.001\n",
       "1  0.086331  0.977965  0.087462      0.977636  0.001\n",
       "2  0.083109  0.978217  0.085268      0.977704  0.001\n",
       "3  0.081265  0.978352  0.084419      0.977771  0.001\n",
       "4  0.079702  0.978331  0.084170      0.977720  0.001"
      ]
     },
     "execution_count": 19,
     "metadata": {},
     "output_type": "execute_result"
    }
   ],
   "source": [
    "losses.head()"
   ]
  },
  {
   "cell_type": "code",
   "execution_count": 20,
   "id": "f386fb51",
   "metadata": {},
   "outputs": [],
   "source": [
    "l = pd.DataFrame({'loss':losses['loss'], 'validation_loss':losses['val_loss']})"
   ]
  },
  {
   "cell_type": "code",
   "execution_count": 21,
   "id": "876ff556",
   "metadata": {},
   "outputs": [
    {
     "data": {
      "text/plain": [
       "<AxesSubplot:>"
      ]
     },
     "execution_count": 21,
     "metadata": {},
     "output_type": "execute_result"
    },
    {
     "data": {
      "image/png": "[encoded data removed]",
      "text/plain": [
       "<Figure size 432x288 with 1 Axes>"
      ]
     },
     "metadata": {
      "needs_background": "light"
     },
     "output_type": "display_data"
    }
   ],
   "source": [
    "l.plot()"
   ]
  },
  {
   "cell_type": "code",
   "execution_count": null,
   "id": "11729f7f",
   "metadata": {},
   "outputs": [],
   "source": []
  }
 ],
 "metadata": {
  "kernelspec": {
   "display_name": "conda_tensorflow2_p38",
   "language": "python",
   "name": "conda_tensorflow2_p38"
  },
  "language_info": {
   "codemirror_mode": {
    "name": "ipython",
    "version": 3
   },
   "file_extension": ".py",
   "mimetype": "text/x-python",
   "name": "python",
   "nbconvert_exporter": "python",
   "pygments_lexer": "ipython3",
   "version": "3.8.12"
  }
 },
 "nbformat": 4,
 "nbformat_minor": 5
}
